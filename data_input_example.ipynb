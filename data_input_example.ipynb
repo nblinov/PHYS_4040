{
 "cells": [
  {
   "cell_type": "code",
   "execution_count": 8,
   "id": "71f3e005",
   "metadata": {},
   "outputs": [],
   "source": [
    "import numpy as np"
   ]
  },
  {
   "cell_type": "markdown",
   "id": "aea81817",
   "metadata": {},
   "source": [
    "# Reading the data files"
   ]
  },
  {
   "cell_type": "markdown",
   "id": "a77b2ee1",
   "metadata": {},
   "source": [
    "The sample below contains events for *our* Standard Model. You can test your analysis on this sample to make sure you can test that this model contains three neutrino flavours."
   ]
  },
  {
   "cell_type": "code",
   "execution_count": 2,
   "id": "b24f2ad6",
   "metadata": {},
   "outputs": [],
   "source": [
    "sample_data = np.load(\"./sm_sample.npz\",allow_pickle=True)['arr_0']"
   ]
  },
  {
   "cell_type": "markdown",
   "id": "069354ca",
   "metadata": {},
   "source": [
    "Each entry in the array is an event corresponding to $p p \\to \\mu^+\\mu^-\\; +\\; \\text{jet}$ or $p p \\to \\bar\\nu\\nu\\; +\\; \\text{jet}$. The neutrinos are invisible to the detector, so their momenta are not recorded. The hadronic jet consists of many particles in principle, but their momenta have been added together, so you can think of it as a single object. Each event is a dictionary; the key `jet` gives the four-momentum of the jet; if present, the key `muons` gives the four-momenta of the two muons. The sample contains no background events from other processes."
   ]
  },
  {
   "cell_type": "code",
   "execution_count": 3,
   "id": "40b2ee3a",
   "metadata": {},
   "outputs": [
    {
     "data": {
      "text/plain": [
       "array([{'jet': array([ 237.31129913, -179.79471851,  -73.04466312,  136.58326794])},\n",
       "       {'jet': array([149.64256616, -98.48441592, -55.31017575,  98.1554985 ])},\n",
       "       {'jet': array([ 211.6055369 ,  -47.61147764, -108.37280426, -175.4006435 ])},\n",
       "       {'jet': array([ 301.14922625, -109.3755651 , -109.55145491,  258.31438395])},\n",
       "       {'jet': array([254.92906726,  44.4019606 , 127.50279179, 216.24137744]), 'muons': array([[ 730.86625003,  -40.19215478, -109.14753418,  721.55171811],\n",
       "              [  73.4522025 ,   -4.20980582,  -18.35525761,   70.99709927]])}                                                                                ],\n",
       "      dtype=object)"
      ]
     },
     "execution_count": 3,
     "metadata": {},
     "output_type": "execute_result"
    }
   ],
   "source": [
    "sample_data[:5]"
   ]
  },
  {
   "cell_type": "markdown",
   "id": "87f12642",
   "metadata": {},
   "source": [
    "For events where all produced particles have been detected (i.e., no neutrinos), the momenta transverse to the beam (which is along the $\\hat{z}$ direction) are conserved. This means that that sum of $\\hat{x}$ and $\\hat{y}$ compononets of all the momenta vanishes (to numerical precision of the simulation)"
   ]
  },
  {
   "cell_type": "code",
   "execution_count": 7,
   "id": "8409df3e",
   "metadata": {},
   "outputs": [
    {
     "data": {
      "text/plain": [
       "array([ 1.05924752e+03,  5.00000041e-10, -1.99998951e-09,  1.00879019e+03])"
      ]
     },
     "execution_count": 7,
     "metadata": {},
     "output_type": "execute_result"
    }
   ],
   "source": [
    "sample_data[4]['jet']+sample_data[4]['muons'][0] + sample_data[4]['muons'][1]"
   ]
  },
  {
   "cell_type": "code",
   "execution_count": null,
   "id": "2718e93e",
   "metadata": {},
   "outputs": [],
   "source": []
  }
 ],
 "metadata": {
  "kernelspec": {
   "display_name": "Python 3 (ipykernel)",
   "language": "python",
   "name": "python3"
  },
  "language_info": {
   "codemirror_mode": {
    "name": "ipython",
    "version": 3
   },
   "file_extension": ".py",
   "mimetype": "text/x-python",
   "name": "python",
   "nbconvert_exporter": "python",
   "pygments_lexer": "ipython3",
   "version": "3.10.4"
  }
 },
 "nbformat": 4,
 "nbformat_minor": 5
}
